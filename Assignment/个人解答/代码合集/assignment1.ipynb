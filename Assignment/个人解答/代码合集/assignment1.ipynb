{
 "cells": [
  {
   "cell_type": "code",
   "execution_count": 6,
   "source": [
    "def baseP(u):\r\n",
    "    return 10*9*8/6*((u/10)**3)*((1-u/10)**7)\r\n",
    "sum = 0.0\r\n",
    "for i in range(11):\r\n",
    "    sum+=1/11*baseP(i)\r\n",
    "sum2 = 0.0\r\n",
    "for j in range(11):\r\n",
    "    print(1/11*baseP(j)/sum)\r\n",
    "    sum2+=1/11*baseP(j)/sum\r\n",
    "print(sum2)\r\n"
   ],
   "outputs": [
    {
     "output_type": "stream",
     "name": "stdout",
     "text": [
      "0.0\n",
      "0.06307262464852743\n",
      "0.22123978796753002\n",
      "0.29321985989557925\n",
      "0.2362555743579042\n",
      "0.12877850558581408\n",
      "0.04666776777440084\n",
      "0.009892048584565579\n",
      "0.0008642179217481626\n",
      "9.613263930578772e-06\n",
      "0.0\n",
      "1.0000000000000002\n"
     ]
    }
   ],
   "metadata": {}
  },
  {
   "cell_type": "code",
   "execution_count": 45,
   "source": [
    "import numpy as np\r\n",
    "import matplotlib.pyplot as plt\r\n",
    "from numpy import random\r\n",
    "fig,ax = plt.subplots()\r\n",
    "x = random.uniform(size=(10000,))\r\n",
    "y = np.sqrt(x)\r\n",
    "y2 = 2*x\r\n",
    "ax.hist(y,density=True, label=\"Normalized hist\", alpha = 0.5)\r\n",
    "ax.scatter(x,y2,color = \"red\", label = \"PDF\")\r\n",
    "ax.legend()\r\n",
    "plt.show()"
   ],
   "outputs": [
    {
     "output_type": "display_data",
     "data": {
      "text/plain": [
       "<Figure size 432x288 with 1 Axes>"
      ],
      "image/png": "[encoded data removed]"
     },
     "metadata": {
      "needs_background": "light"
     }
    }
   ],
   "metadata": {}
  }
 ],
 "metadata": {
  "orig_nbformat": 4,
  "language_info": {
   "name": "python",
   "version": "3.8.10",
   "mimetype": "text/x-python",
   "codemirror_mode": {
    "name": "ipython",
    "version": 3
   },
   "pygments_lexer": "ipython3",
   "nbconvert_exporter": "python",
   "file_extension": ".py"
  },
  "kernelspec": {
   "name": "python3",
   "display_name": "Python 3.8.10 64-bit ('sci': conda)"
  },
  "interpreter": {
   "hash": "c51327efe5c1226e38d02549998d307117e9d487adfae28d53005b5361d3cf51"
  }
 },
 "nbformat": 4,
 "nbformat_minor": 2
}